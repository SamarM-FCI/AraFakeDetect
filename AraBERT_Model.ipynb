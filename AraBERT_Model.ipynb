{
  "cells": [
    {
      "cell_type": "code",
      "execution_count": null,
      "metadata": {
        "id": "sWsP1Nbhg8Gz"
      },
      "outputs": [],
      "source": [
        "import transformers\n",
        "from transformers import AutoModel, BertTokenizerFast, AutoModelForSequenceClassification, Trainer, TrainingArguments\n",
        "import pandas as pd\n",
        "from datasets import load_dataset\n",
        "from transformers import AutoTokenizer, AutoModelForMaskedLM\n",
        "from sklearn.metrics import precision_recall_fscore_support, accuracy_score\n",
        "from sklearn.metrics import classification_report\n",
        "from sklearn.metrics import precision_recall_fscore_support, accuracy_score, roc_curve, auc, confusion_matrix\n",
        "from sklearn.preprocessing import label_binarize\n",
        "import numpy as np\n",
        "import matplotlib.pyplot as plt"
      ]
    },
    {
      "cell_type": "code",
      "execution_count": null,
      "metadata": {
        "colab": {
          "base_uri": "https://localhost:8080/",
          "height": 206
        },
        "id": "AIt2D2UUpTcr",
        "outputId": "bf3cd2e6-5d48-40ab-bee7-05a890336fe6"
      },
      "outputs": [],
      "source": [
        "data1 = pd.read_csv('final_dataset.csv')\n",
        "data = data1\n",
        "data.head()\n",
        "#data['cleanText'].value_counts()"
      ]
    },
    {
      "cell_type": "code",
      "execution_count": null,
      "metadata": {
        "id": "ItcKFyV5mda7"
      },
      "outputs": [],
      "source": [
        "raw_dataset = load_dataset('csv', data_files = 'final_dataset.csv')"
      ]
    },
    {
      "cell_type": "code",
      "execution_count": null,
      "metadata": {
        "colab": {
          "base_uri": "https://localhost:8080/"
        },
        "id": "ScJAnetxmZ1-",
        "outputId": "ff581c5f-d7eb-4da1-aa5b-2085c49b9dd7"
      },
      "outputs": [],
      "source": [
        "dataset = raw_dataset['train'].train_test_split(test_size=0.3, seed=42)\n",
        "dataset\n"
      ]
    },
    {
      "cell_type": "code",
      "execution_count": null,
      "metadata": {
        "colab": {
          "base_uri": "https://localhost:8080/",
          "height": 70
        },
        "id": "wo2t99NomV6o",
        "outputId": "c6e95527-e9be-484b-b185-4883665ed4b4"
      },
      "outputs": [],
      "source": [
        "BERT_MODEL_NAME = 'aubmindlab/bert-base-arabertv02-twitter' "
      ]
    },
    {
      "cell_type": "code",
      "execution_count": null,
      "metadata": {
        "colab": {
          "base_uri": "https://localhost:8080/"
        },
        "id": "nX3eok-xmQc_",
        "outputId": "a16482c4-c52c-4188-cd1f-2e7415365b0e"
      },
      "outputs": [],
      "source": [
        "tokenizer = AutoTokenizer.from_pretrained(BERT_MODEL_NAME)\n",
        "\n",
        "def tokenize_function(examples):\n",
        "    return tokenizer(examples[\"sentence\"], padding=\"max_length\", truncation=True)\n",
        "tokenized_datasets = dataset.map(tokenize_function, batched=True)"
      ]
    },
    {
      "cell_type": "code",
      "execution_count": null,
      "metadata": {
        "colab": {
          "base_uri": "https://localhost:8080/"
        },
        "id": "frAxPIh3iMKO",
        "outputId": "2ae74816-5309-468a-f93e-0f5d3378daef"
      },
      "outputs": [],
      "source": [
        "model = AutoModelForSequenceClassification.from_pretrained(BERT_MODEL_NAME, num_labels=2)"
      ]
    },
    {
      "cell_type": "code",
      "execution_count": null,
      "metadata": {
        "colab": {
          "base_uri": "https://localhost:8080/",
          "height": 70
        },
        "id": "q2azlrETZyXH",
        "outputId": "64f05b40-7f68-4640-eb9a-8fd2c428c442"
      },
      "outputs": [],
      "source": [
        "'''import torch\n",
        "import torch.nn as nn\n",
        "from transformers import BertModel\n",
        "\n",
        "model.classifier = nn.Sequential(\n",
        "            nn.Linear(768,24),\n",
        "            nn.ReLU(),\n",
        "            nn.Dropout(0.5),\n",
        "            nn.Linear(24, 2))'''"
      ]
    },
    {
      "cell_type": "code",
      "execution_count": null,
      "metadata": {
        "id": "RzuRl_gjiDCt"
      },
      "outputs": [],
      "source": [
        "# Function to compute and return a metric report\n",
        "def compute_metrics(pred, num_classes=2):\n",
        "    labels = pred.label_ids\n",
        "    preds = pred.predictions[:, 1]\n",
        "\n",
        "    # Compute precision, recall, F1 score, and support for each class\n",
        "    metrics_per_class = precision_recall_fscore_support(labels, (preds >= 0.5).astype(int), average=None, labels=[0, 1])\n",
        "\n",
        "    # Compute overall accuracy, precision, recall, and F1 score\n",
        "    acc = accuracy_score(labels, (preds >= 0.5).astype(int))\n",
        "    overall_metrics = precision_recall_fscore_support(labels, (preds >= 0.5).astype(int), average='macro')\n",
        "\n",
        "    # Create a classification report\n",
        "    class_names = [str(i) for i in range(len(metrics_per_class[0]))]  # Replace with actual class names if available\n",
        "    classification_rep = classification_report(labels, (preds >= 0.5).astype(int), target_names=class_names)\n",
        "\n",
        "    # Compute ROC curve and AUC for binary classification\n",
        "    labels_binarized = label_binarize(labels, classes=[0, 1])\n",
        "    fpr, tpr, _ = roc_curve(labels_binarized, preds)\n",
        "    roc_auc = auc(fpr, tpr)\n",
        "\n",
        "\n",
        "    # Compute confusion matrix\n",
        "    conf_matrix = confusion_matrix(labels, (preds >= 0.5).astype(int))\n",
        "\n",
        "    # Construct the metric report\n",
        "    metric_report = {\n",
        "        'accuracy': acc,\n",
        "        'precision': {\n",
        "            'macro': overall_metrics[0]\n",
        "\n",
        "        },\n",
        "        'recall': {\n",
        "            'macro': overall_metrics[1]\n",
        "\n",
        "        },\n",
        "        'f1': {\n",
        "            'macro': overall_metrics[2]\n",
        "        },\n",
        "        'support': {\n",
        "            'per_class': dict(zip(class_names, metrics_per_class[3]))\n",
        "        },\n",
        "        'classification_report': classification_rep,\n",
        "        'roc_curve': {\n",
        "            'roc_auc': roc_auc\n",
        "        },\n",
        "        'confusion_matrix': conf_matrix\n",
        "    }\n",
        "\n",
        "    # Plot ROC curve\n",
        "    plt.figure()\n",
        "    plt.plot(fpr, tpr, color='darkorange', lw=2, label=f'ROC curve (area = {roc_auc:.2f})')\n",
        "    plt.plot([0, 1], [0, 1], color='navy', lw=2, linestyle='--')\n",
        "    plt.xlim([0.0, 1.0])\n",
        "    plt.ylim([0.0, 1.05])\n",
        "    plt.xlabel('False Positive Rate')\n",
        "    plt.ylabel('True Positive Rate')\n",
        "    plt.title('ROC Curve')\n",
        "    plt.legend(loc='lower right')\n",
        "    plt.show()\n",
        "\n",
        "    return metric_report\n",
        "\n",
        "\n"
      ]
    },
    {
      "cell_type": "code",
      "execution_count": null,
      "metadata": {
        "id": "9wru027-h9i9"
      },
      "outputs": [],
      "source": [
        "training_args = TrainingArguments(\n",
        "    output_dir='./results',          # output directory\n",
        "    num_train_epochs=3,              # total number of training epochs\n",
        "    per_device_train_batch_size=4,  # batch size per device during training\n",
        "    per_device_eval_batch_size=2,   # batch size for evaluation\n",
        "\n",
        "    weight_decay=0.01,               # strength of weight decay\n",
        "    logging_strategy='epoch',\n",
        "    evaluation_strategy='epoch'\n",
        "    )\n",
        "#    warmup_steps=500,\n",
        "trainer = Trainer(\n",
        "    model=model,\n",
        "    args=training_args,\n",
        "    train_dataset=tokenized_datasets['train'],\n",
        "    eval_dataset=tokenized_datasets['test'],\n",
        "    compute_metrics=compute_metrics\n",
        ")"
      ]
    },
    {
      "cell_type": "code",
      "execution_count": null,
      "metadata": {
        "colab": {
          "base_uri": "https://localhost:8080/",
          "height": 93
        },
        "id": "zn7BtXnAh2Db",
        "outputId": "c521fd4e-70ad-4b4c-e4e6-781b82ce3fa1"
      },
      "outputs": [],
      "source": [
        "trainer.train()"
      ]
    },
    {
      "cell_type": "code",
      "execution_count": null,
      "metadata": {
        "id": "EbI6UWMAT9Q0"
      },
      "outputs": [],
      "source": [
        "import pandas as pd\n",
        "data_f =  pd.read_csv(\"test_data.csv\")"
      ]
    },
    {
      "cell_type": "code",
      "execution_count": null,
      "metadata": {
        "id": "2yiWE35yThCv"
      },
      "outputs": [],
      "source": [
        "import torch\n",
        "predicted=[]\n",
        "for text in data_f['sentence']:\n",
        "  # New text to predict\n",
        "  new_text = text\n",
        "  # Tokenize and encode the new text\n",
        "  input_ids = tokenizer.encode(new_text, return_tensors=\"pt\")\n",
        "\n",
        "  # Forward pass through the model\n",
        "  with torch.no_grad():\n",
        "      logits = model(input_ids)[0]\n",
        "\n",
        "  # Apply softmax to get probabilities\n",
        "  probs = torch.nn.functional.softmax(logits, dim=-1)\n",
        "\n",
        "  # Threshold for binary classification\n",
        "  threshold = 0.5\n",
        "  predicted_class = 1 if probs[0][1] > threshold else 0\n",
        "  predicted.append(predicted_class)\n",
        "\n",
        "  #print(\"Predicted Class:\", predicted_class)\n"
      ]
    },
    {
      "cell_type": "code",
      "execution_count": null,
      "metadata": {
        "id": "FJ26rrjihdkB"
      },
      "outputs": [],
      "source": [
        "actual=[]\n",
        "for i in data_f['label']:\n",
        "  actual.append(i)"
      ]
    },
    {
      "cell_type": "code",
      "execution_count": null,
      "metadata": {
        "id": "yAc5D1O3ma8P"
      },
      "outputs": [],
      "source": [
        "len(actual),len(predicted)"
      ]
    },
    {
      "cell_type": "code",
      "execution_count": null,
      "metadata": {
        "id": "bZe-iKFphPze"
      },
      "outputs": [],
      "source": [
        "# Calculate accuracy\n",
        "correct_predictions = 0\n",
        "for i in range(len(predicted)):\n",
        "  if (predicted[i] == actual[i]):\n",
        "    correct_predictions +=1\n",
        "\n",
        "accuracy = correct_predictions / len(predicted)\n",
        "\n",
        "print(f\"Accuracy: {accuracy:.2%}\")"
      ]
    },
    {
      "cell_type": "code",
      "execution_count": null,
      "metadata": {
        "id": "A7jLpUxRhmLC"
      },
      "outputs": [],
      "source": [
        "from sklearn.metrics import classification_report, roc_auc_score, accuracy_score, f1_score, precision_score, recall_score\n",
        "import matplotlib.pyplot as plt\n",
        "from sklearn.metrics import roc_curve, auc\n",
        "\n",
        "# Assuming val_y is your true labels and predictions are your predicted labels\n",
        "\n",
        "val_y = actual\n",
        "predictions = predicted\n",
        "\n",
        "\n",
        "# Print Classification Report\n",
        "print(\"Classification Report:\")\n",
        "print(classification_report(val_y, predictions))\n",
        "\n",
        "# Calculate and Print ROC-AUC Score\n",
        "roc_auc = roc_auc_score(val_y, predictions)\n",
        "print(f\"ROC-AUC Score: {roc_auc:.4f}\")\n",
        "\n",
        "# Calculate and Print Accuracy\n",
        "accuracy = accuracy_score(val_y, predictions)\n",
        "print(f\"Accuracy: {accuracy:.4f}\")\n",
        "\n",
        "# Calculate and Print F1 Score\n",
        "f1 = f1_score(val_y, predictions)\n",
        "print(f\"F1 Score: {f1:.4f}\")\n",
        "\n",
        "# Calculate and Print Precision\n",
        "precision = precision_score(val_y, predictions)\n",
        "print(f\"Precision: {precision:.4f}\")\n",
        "\n",
        "# Calculate and Print Recall\n",
        "recall = recall_score(val_y, predictions)\n",
        "print(f\"Recall: {recall:.4f}\")\n",
        "\n",
        "# Plot ROC Curve\n",
        "fpr, tpr, thresholds = roc_curve(val_y, predictions)\n",
        "roc_auc_curve = auc(fpr, tpr)\n",
        "\n",
        "plt.figure(figsize=(10, 6))\n",
        "plt.plot(fpr, tpr, color='darkorange', lw=2, label='ROC curve (area = {:.2f})'.format(roc_auc_curve))\n",
        "plt.plot([0, 1], [0, 1], color='navy', lw=2, linestyle='--')\n",
        "plt.xlabel('False Positive Rate')\n",
        "plt.ylabel('True Positive Rate')\n",
        "plt.title('Receiver Operating Characteristic (ROC) Curve')\n",
        "plt.legend(loc='lower right')\n",
        "plt.show()\n"
      ]
    }
  ],
  "metadata": {
    "colab": {
      "provenance": []
    },
    "kernelspec": {
      "display_name": "Python 3",
      "name": "python3"
    },
    "language_info": {
      "name": "python"
    }
  },
  "nbformat": 4,
  "nbformat_minor": 0
}
